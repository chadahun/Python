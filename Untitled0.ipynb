{
  "nbformat": 4,
  "nbformat_minor": 0,
  "metadata": {
    "colab": {
      "provenance": [],
      "authorship_tag": "ABX9TyMuGOQR10/CQtBBdsZPbKQl",
      "include_colab_link": true
    },
    "kernelspec": {
      "name": "python3",
      "display_name": "Python 3"
    },
    "language_info": {
      "name": "python"
    }
  },
  "cells": [
    {
      "cell_type": "markdown",
      "metadata": {
        "id": "view-in-github",
        "colab_type": "text"
      },
      "source": [
        "<a href=\"https://colab.research.google.com/github/chadahun/Python/blob/main/Untitled0.ipynb\" target=\"_parent\"><img src=\"https://colab.research.google.com/assets/colab-badge.svg\" alt=\"Open In Colab\"/></a>"
      ]
    },
    {
      "cell_type": "code",
      "execution_count": null,
      "metadata": {
        "colab": {
          "base_uri": "https://localhost:8080/"
        },
        "id": "zvpiZ_mWPhzI",
        "outputId": "c5b46c7f-63ac-4c6b-cedd-825e6289e973"
      },
      "outputs": [
        {
          "output_type": "stream",
          "name": "stdout",
          "text": [
            "<div class=\"itemUnit\">\n",
            "<div class=\"item_img\">\n",
            "<div class=\"img_canvas\">\n",
            "<div class=\"img_upper\">\n",
            "<em class=\"ico rank\">1</em>\n",
            "<span class=\"rank_info rank_even\">\n",
            "<span class=\"ico\"></span><em class=\"txt rank\"></em><em class=\"txt\">위 상승</em>\n",
            "</span>\n",
            "</div>\n",
            "<span class=\"img_item\">\n",
            "<span class=\"img_grp\">\n",
            "<a class=\"lnk_img\" href=\"/Product/Goods/125184026\" onclick=\"wiseLogV2('BS', '001_005_001', ''); \">\n",
            "<em class=\"img_bdr\">\n",
            "<img alt=\"주술회전 25 더블특장판\" border=\"0\" class=\"lazy\" data-original=\"https://image.yes24.com/goods/125184026/L\" src=\"https://image.yes24.com/momo/Noimg_L.jpg\"/>\n",
            "</em>\n",
            "</a>\n",
            "</span>\n",
            "</span>\n",
            "</div>\n",
            "<div class=\"img_btn\">\n",
            "</div>\n",
            "</div>\n",
            "<div class=\"item_info\">\n",
            "<div class=\"info_row info_keynote\">\n",
            "</div>\n",
            "<div class=\"info_row info_name\">\n",
            "<span class=\"gd_res\">[만화]</span>\n",
            "<a class=\"gd_name\" href=\"/Product/Goods/125184026\" onclick=\"wiseLogV2('BS', '001_005_001', ''); \">주술회전 25 더블특장판</a>\n",
            "<span class=\"gd_nameE\">인외마경 신주쿠 결전</span>\n",
            "<span class=\"gd_feature\">[ 초판한정부록 : 고죠 일러스트 책갈피 + 선착순 스쿠나 일러스트 책갈피 &amp; 양면 커버 (책과랩핑) ]</span>\n",
            "<a class=\"bgYUI ico_nWin\" href=\"/Product/Goods/125184026\" onclick=\"wiseLogV2('BS', '001_005_001', ''); \" target=\"_blank\">주술회전 25 더블특장판 새창이동</a>\n",
            "</div>\n",
            "<div class=\"info_row info_pubGrp\">\n",
            "<span class=\"authPub info_auth\" onclick=\"wiseLogV2('BS', '001_005_002', '');\">\n",
            "<a href=\"https://www.yes24.com/Product/Search?domain=ALL&amp;query=아쿠타미 게게&amp;authorNo=255296&amp;author=아쿠타미 게게\" target=\"\">아쿠타미 게게</a> 글그림/<a href=\"https://www.yes24.com/Product/Search?domain=ALL&amp;query=이정운&amp;authorNo=203450&amp;author=이정운\" target=\"\">이정운</a> 역\r\n",
            "                            </span>\n",
            "<span class=\"authPub info_pub\" onclick=\"wiseLogV2('BS', '001_005_003', '');\"><a href=\"https://www.yes24.com/Product/Search?&amp;domain=ALL&amp;company=%ec%84%9c%ec%9a%b8%eb%af%b8%eb%94%94%ec%96%b4%ec%bd%94%eb%af%b9%ec%8a%a4(%ec%84%9c%ec%9a%b8%eb%ac%b8%ed%99%94%ec%82%ac)&amp;query=%ec%84%9c%ec%9a%b8%eb%af%b8%eb%94%94%ec%96%b4%ec%bd%94%eb%af%b9%ec%8a%a4(%ec%84%9c%ec%9a%b8%eb%ac%b8%ed%99%94%ec%82%ac)\">서울미디어코믹스(서울문화사)</a></span>\n",
            "<span class=\"authPub info_date\">2024년 02월</span>\n",
            "</div>\n",
            "<div class=\"info_row info_price\">\n",
            "<span class=\"txt_sale\"><em class=\"num\">10</em>%</span>\n",
            "<strong class=\"txt_num\"><em class=\"yes_b\">5,400</em>원</strong>\n",
            "<span class=\"txt_num dash\"><em class=\"yes_m\">6,000</em>원</span>\n",
            "<span class=\"yPoint\"><em class=\"bgYUI ico_point\">포인트적립</em>300원</span>\n",
            "</div>\n",
            "<div class=\"info_row info_rating\">\n",
            "<span class=\"saleNum\">\r\n",
            "                                판매지수 141,750\r\n",
            "                            </span>\n",
            "<span class=\"rating_rvCount\">\n",
            "<a href=\"https://www.yes24.com/Product/Goods/125184026?ReviewYn=Y\" onclick=\"wiseLogV2('BS', '001_005_004', '');\"><em class=\"bit\">회원리뷰</em>(<em class=\"txC_blue\">60</em>건)</a>\n",
            "</span>\n",
            "<span class=\"rating_grade\">\n",
            "<span class=\"bgYUI tRating tRating_10\">리뷰 총점</span><em class=\"yes_b\">9.9</em>\n",
            "<span class=\"moreRatingArea\">\n",
            "<span class=\"moreRatingBtn\">\n",
            "<a class=\"bgYUI\" href=\"javascript:void(0);\" onclick=\"toggleLiCont(this,$('.sGLi'),event);\">정보 더 보기/감추기</a>\n",
            "</span>\n",
            "<span class=\"moreRatingLi\">\n",
            "<span class=\"moreRatingLiRow\">\n",
            "<ul class=\"yesAlertLi\">\n",
            "<li><em class=\"bl_dot bgYUI\"> </em>종이책 리뷰 (14건)</li>\n",
            "<li><em class=\"bl_dot bgYUI\"> </em>eBook 리뷰 (0건)</li>\n",
            "<li><em class=\"bl_dot bgYUI\"> </em>종이책 한줄평 (46건)</li>\n",
            "<li><em class=\"bl_dot bgYUI\"> </em>eBook 한줄평 (0건)</li>\n",
            "</ul>\n",
            "</span>\n",
            "</span>\n",
            "</span>\n",
            "</span>\n",
            "</div>\n",
            "<div class=\"info_row info_soldOut\">\n",
            "<span class=\"shortV\">일시품절</span>\n",
            "</div>\n",
            "<div class=\"info_row info_signature\">\r\n",
            "                    초판한정부록 : 고죠 일러스트 책갈피 + 선착순 스쿠나 일러스트 책갈피 &amp; 양면 커버 (책과랩핑)\r\n",
            "                </div>\n",
            "<div class=\"info_row info_tag\">\n",
            "<span class=\"tag\">\n",
            "<a href=\"https://www.yes24.com/Product/Search?domain=ALL&amp;query=%eb%8b%a4%ed%81%ac%ed%8c%90%ed%83%80%ec%a7%80&amp;hashNm=%eb%8b%a4%ed%81%ac%ed%8c%90%ed%83%80%ec%a7%80\" onclick=\"wiseLogV2('BS', '001_005_005', ''); setTagClickExtraCode('100', '다크판타지', '125184026','1710');\">#다크판타지</a>\n",
            "</span>\n",
            "</div>\n",
            "<div class=\"info_row info_event\">\n",
            "<div class=\"event\">\n",
            "<span class=\"iconC freeD\"><em class=\"txt\">이벤트</em></span>\n",
            "<span class=\"iconC\"><em class=\"txt\">기획전</em></span>\n",
            "<span class=\"txt\"><a href=\"https://www.yes24.com/campaign/01_book/2023/BrandAuthor.aspx?EventNo=244313\">주술회전 특별관 / 呪術廻戰</a></span>\n",
            "<span class=\"date\">(24.02.13 ~ 00.12.31)</span>\n",
            "</div>\n",
            "</div>\n",
            "</div>\n",
            "<div class=\"item_btnCol\">\n",
            "<input class=\"basic\" data-goodsno=\"125184026\" id=\"ordChk_125184026\" name=\"ORD_GOODS_CHKBOX\" style=\"display: none;\" type=\"checkbox\" value=\"\"/>\n",
            "<input id=\"ordCnt_125184026\" name=\"ORD_GOODS_CNT\" title=\"수량설정\" type=\"hidden\" value=\"1\"/>\n",
            "<span class=\"btn_row soldOut\">일시품절</span>\n",
            "<a class=\"btnC\" href=\"javascript:void(0);\" onclick=\"order_payment.addMyListV3('125184026', '', '', true, ''); wiseLogV2('BS', '001_005_010', '');;\"><span class=\"bWrap\"><em class=\"txt\">리스트에 넣기</em></span></a>\n",
            "<input id=\"ordOpt_125184026\" name=\"ORD_GOODS_OPT\" type=\"hidden\" value='{\"goods_no\":125184026,\"goods_seq\":1,\"order_limit_yn\":\"Y\",\"order_remain_count\":0,\"event_no\":0,\"add_cart_yn\":\"Y\",\"goods_state\":\"04\",\"order_limit_count\":0,\"resource_key\":\"07\",\"limit_age_yn\":\"N\",\"limit_age\":0,\"member_age\":0,\"goods_name\":\"주술회전 25 더블특장판\",\"noint_quotamonth\":0,\"min_cnt\":0,\"max_cnt\":0,\"opt_salepr\":0,\"opt_yn\":\"N\",\"opt_inst_yn\":\"N\",\"flat_rate_yn\":null,\"rent_goods_yn\":\"N\",\"bookclue_yn\":\"N\",\"goods_gb\":\"99\",\"goodsSortNo\":\"001008\",\"goodsSortNm\":\"만화/라이트노벨\",\"goodsAuth\":\"&lt;아쿠타미 게게&gt; 글그림/&lt;이정운&gt; 역\"}'>\n",
            "</input></div>\n",
            "</div>\n"
          ]
        }
      ],
      "source": []
    },
    {
      "cell_type": "code",
      "source": [
        "from google.colab import drive\n",
        "drive.mount('/content/drive')"
      ],
      "metadata": {
        "colab": {
          "base_uri": "https://localhost:8080/"
        },
        "id": "jmum_7fVRuRb",
        "outputId": "eeefb141-35cc-45ba-c41a-3cb8aa2dc129"
      },
      "execution_count": null,
      "outputs": [
        {
          "output_type": "stream",
          "name": "stdout",
          "text": [
            "Mounted at /content/drive\n"
          ]
        }
      ]
    }
  ]
}